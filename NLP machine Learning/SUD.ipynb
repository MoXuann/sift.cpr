{
 "cells": [
  {
   "cell_type": "code",
   "execution_count": 2,
   "metadata": {},
   "outputs": [],
   "source": [
    "import os\n",
    "os.environ['TF_CPP_MIN_LOG_LEVEL'] = '3'\n",
    "\n",
    "from lstm_for_sud import config\n",
    "from lstm_for_sud.dataset import Dataset\n",
    "from lstm_for_sud.model import LstmModel\n",
    "from lstm_for_sud.utils import load_vocab, get_trimmed_w2v_vectors, Timer"
   ]
  },
  {
   "cell_type": "code",
   "execution_count": 3,
   "metadata": {},
   "outputs": [],
   "source": [
    "# initialize models/ instantiate required objects here\n",
    "vocab = load_vocab(config.VOCAB_DATA)\n",
    "embeddings = get_trimmed_w2v_vectors(config.W2V_DATA)"
   ]
  },
  {
   "cell_type": "code",
   "execution_count": 4,
   "metadata": {},
   "outputs": [
    {
     "name": "stdout",
     "output_type": "stream",
     "text": [
      "WARNING:tensorflow:From /home/mxhow/sud/lstm_for_sud/model.py:28: The name tf.Session is deprecated. Please use tf.compat.v1.Session instead.\n",
      "\n",
      "WARNING:tensorflow:From /home/mxhow/sud/lstm_for_sud/model.py:47: The name tf.placeholder is deprecated. Please use tf.compat.v1.placeholder instead.\n",
      "\n",
      "WARNING:tensorflow:From /home/mxhow/sud/lstm_for_sud/model.py:59: The name tf.variable_scope is deprecated. Please use tf.compat.v1.variable_scope instead.\n",
      "\n",
      "WARNING:tensorflow:From /home/mxhow/sud/lstm_for_sud/model.py:65: calling dropout (from tensorflow.python.ops.nn_ops) with keep_prob is deprecated and will be removed in a future version.\n",
      "Instructions for updating:\n",
      "Please use `rate` instead of `keep_prob`. Rate should be set to `rate = 1 - keep_prob`.\n",
      "WARNING:tensorflow:From /home/mxhow/sud/lstm_for_sud/model.py:74: BasicLSTMCell.__init__ (from tensorflow.python.ops.rnn_cell_impl) is deprecated and will be removed in a future version.\n",
      "Instructions for updating:\n",
      "This class is equivalent as tf.keras.layers.LSTMCell, and will be replaced by that in Tensorflow 2.0.\n",
      "WARNING:tensorflow:From /home/mxhow/sud/lstm_for_sud/model.py:74: MultiRNNCell.__init__ (from tensorflow.python.ops.rnn_cell_impl) is deprecated and will be removed in a future version.\n",
      "Instructions for updating:\n",
      "This class is equivalent as tf.keras.layers.StackedRNNCells, and will be replaced by that in Tensorflow 2.0.\n",
      "WARNING:tensorflow:From /home/mxhow/sud/lstm_for_sud/model.py:84: bidirectional_dynamic_rnn (from tensorflow.python.ops.rnn) is deprecated and will be removed in a future version.\n",
      "Instructions for updating:\n",
      "Please use `keras.layers.Bidirectional(keras.layers.RNN(cell))`, which is equivalent to this API\n",
      "WARNING:tensorflow:From /home/mxhow/anaconda3/envs/hackathon1/lib/python3.6/site-packages/tensorflow/python/ops/rnn.py:464: dynamic_rnn (from tensorflow.python.ops.rnn) is deprecated and will be removed in a future version.\n",
      "Instructions for updating:\n",
      "Please use `keras.layers.RNN(cell)`, which is equivalent to this API\n",
      "WARNING:tensorflow:Entity <bound method MultiRNNCell.call of <tensorflow.python.ops.rnn_cell_impl.MultiRNNCell object at 0x7f2c98a175c0>> could not be transformed and will be executed as-is. Please report this to the AutgoGraph team. When filing the bug, set the verbosity to 10 (on Linux, `export AUTOGRAPH_VERBOSITY=10`) and attach the full output. Cause: converting <bound method MultiRNNCell.call of <tensorflow.python.ops.rnn_cell_impl.MultiRNNCell object at 0x7f2c98a175c0>>: AttributeError: module 'gast' has no attribute 'Num'\n",
      "WARNING: Entity <bound method MultiRNNCell.call of <tensorflow.python.ops.rnn_cell_impl.MultiRNNCell object at 0x7f2c98a175c0>> could not be transformed and will be executed as-is. Please report this to the AutgoGraph team. When filing the bug, set the verbosity to 10 (on Linux, `export AUTOGRAPH_VERBOSITY=10`) and attach the full output. Cause: converting <bound method MultiRNNCell.call of <tensorflow.python.ops.rnn_cell_impl.MultiRNNCell object at 0x7f2c98a175c0>>: AttributeError: module 'gast' has no attribute 'Num'\n",
      "WARNING:tensorflow:From /home/mxhow/anaconda3/envs/hackathon1/lib/python3.6/site-packages/tensorflow/python/ops/init_ops.py:1251: calling VarianceScaling.__init__ (from tensorflow.python.ops.init_ops) with dtype is deprecated and will be removed in a future version.\n",
      "Instructions for updating:\n",
      "Call initializer instance with the dtype argument instead of passing it to the constructor\n",
      "WARNING:tensorflow:From /home/mxhow/anaconda3/envs/hackathon1/lib/python3.6/site-packages/tensorflow/python/ops/rnn_cell_impl.py:738: calling Zeros.__init__ (from tensorflow.python.ops.init_ops) with dtype is deprecated and will be removed in a future version.\n",
      "Instructions for updating:\n",
      "Call initializer instance with the dtype argument instead of passing it to the constructor\n",
      "WARNING:tensorflow:Entity <bound method BasicLSTMCell.call of <tensorflow.python.ops.rnn_cell_impl.BasicLSTMCell object at 0x7f2c98a17320>> could not be transformed and will be executed as-is. Please report this to the AutgoGraph team. When filing the bug, set the verbosity to 10 (on Linux, `export AUTOGRAPH_VERBOSITY=10`) and attach the full output. Cause: converting <bound method BasicLSTMCell.call of <tensorflow.python.ops.rnn_cell_impl.BasicLSTMCell object at 0x7f2c98a17320>>: AssertionError: Bad argument number for Name: 3, expecting 4\n",
      "WARNING: Entity <bound method BasicLSTMCell.call of <tensorflow.python.ops.rnn_cell_impl.BasicLSTMCell object at 0x7f2c98a17320>> could not be transformed and will be executed as-is. Please report this to the AutgoGraph team. When filing the bug, set the verbosity to 10 (on Linux, `export AUTOGRAPH_VERBOSITY=10`) and attach the full output. Cause: converting <bound method BasicLSTMCell.call of <tensorflow.python.ops.rnn_cell_impl.BasicLSTMCell object at 0x7f2c98a17320>>: AssertionError: Bad argument number for Name: 3, expecting 4\n",
      "WARNING:tensorflow:Entity <bound method BasicLSTMCell.call of <tensorflow.python.ops.rnn_cell_impl.BasicLSTMCell object at 0x7f2c98a178d0>> could not be transformed and will be executed as-is. Please report this to the AutgoGraph team. When filing the bug, set the verbosity to 10 (on Linux, `export AUTOGRAPH_VERBOSITY=10`) and attach the full output. Cause: converting <bound method BasicLSTMCell.call of <tensorflow.python.ops.rnn_cell_impl.BasicLSTMCell object at 0x7f2c98a178d0>>: AssertionError: Bad argument number for Name: 3, expecting 4\n",
      "WARNING: Entity <bound method BasicLSTMCell.call of <tensorflow.python.ops.rnn_cell_impl.BasicLSTMCell object at 0x7f2c98a178d0>> could not be transformed and will be executed as-is. Please report this to the AutgoGraph team. When filing the bug, set the verbosity to 10 (on Linux, `export AUTOGRAPH_VERBOSITY=10`) and attach the full output. Cause: converting <bound method BasicLSTMCell.call of <tensorflow.python.ops.rnn_cell_impl.BasicLSTMCell object at 0x7f2c98a178d0>>: AssertionError: Bad argument number for Name: 3, expecting 4\n",
      "WARNING:tensorflow:From /home/mxhow/anaconda3/envs/hackathon1/lib/python3.6/site-packages/tensorflow/python/ops/rnn.py:244: add_dispatch_support.<locals>.wrapper (from tensorflow.python.ops.array_ops) is deprecated and will be removed in a future version.\n",
      "Instructions for updating:\n",
      "Use tf.where in 2.0, which has the same broadcast rule as np.where\n",
      "WARNING:tensorflow:Entity <bound method MultiRNNCell.call of <tensorflow.python.ops.rnn_cell_impl.MultiRNNCell object at 0x7f2c98a17cc0>> could not be transformed and will be executed as-is. Please report this to the AutgoGraph team. When filing the bug, set the verbosity to 10 (on Linux, `export AUTOGRAPH_VERBOSITY=10`) and attach the full output. Cause: converting <bound method MultiRNNCell.call of <tensorflow.python.ops.rnn_cell_impl.MultiRNNCell object at 0x7f2c98a17cc0>>: AttributeError: module 'gast' has no attribute 'Num'\n",
      "WARNING: Entity <bound method MultiRNNCell.call of <tensorflow.python.ops.rnn_cell_impl.MultiRNNCell object at 0x7f2c98a17cc0>> could not be transformed and will be executed as-is. Please report this to the AutgoGraph team. When filing the bug, set the verbosity to 10 (on Linux, `export AUTOGRAPH_VERBOSITY=10`) and attach the full output. Cause: converting <bound method MultiRNNCell.call of <tensorflow.python.ops.rnn_cell_impl.MultiRNNCell object at 0x7f2c98a17cc0>>: AttributeError: module 'gast' has no attribute 'Num'\n",
      "WARNING:tensorflow:Entity <bound method BasicLSTMCell.call of <tensorflow.python.ops.rnn_cell_impl.BasicLSTMCell object at 0x7f2c841ad978>> could not be transformed and will be executed as-is. Please report this to the AutgoGraph team. When filing the bug, set the verbosity to 10 (on Linux, `export AUTOGRAPH_VERBOSITY=10`) and attach the full output. Cause: converting <bound method BasicLSTMCell.call of <tensorflow.python.ops.rnn_cell_impl.BasicLSTMCell object at 0x7f2c841ad978>>: AssertionError: Bad argument number for Name: 3, expecting 4\n",
      "WARNING: Entity <bound method BasicLSTMCell.call of <tensorflow.python.ops.rnn_cell_impl.BasicLSTMCell object at 0x7f2c841ad978>> could not be transformed and will be executed as-is. Please report this to the AutgoGraph team. When filing the bug, set the verbosity to 10 (on Linux, `export AUTOGRAPH_VERBOSITY=10`) and attach the full output. Cause: converting <bound method BasicLSTMCell.call of <tensorflow.python.ops.rnn_cell_impl.BasicLSTMCell object at 0x7f2c841ad978>>: AssertionError: Bad argument number for Name: 3, expecting 4\n"
     ]
    },
    {
     "name": "stdout",
     "output_type": "stream",
     "text": [
      "WARNING:tensorflow:Entity <bound method BasicLSTMCell.call of <tensorflow.python.ops.rnn_cell_impl.BasicLSTMCell object at 0x7f2c841adcf8>> could not be transformed and will be executed as-is. Please report this to the AutgoGraph team. When filing the bug, set the verbosity to 10 (on Linux, `export AUTOGRAPH_VERBOSITY=10`) and attach the full output. Cause: converting <bound method BasicLSTMCell.call of <tensorflow.python.ops.rnn_cell_impl.BasicLSTMCell object at 0x7f2c841adcf8>>: AssertionError: Bad argument number for Name: 3, expecting 4\n",
      "WARNING: Entity <bound method BasicLSTMCell.call of <tensorflow.python.ops.rnn_cell_impl.BasicLSTMCell object at 0x7f2c841adcf8>> could not be transformed and will be executed as-is. Please report this to the AutgoGraph team. When filing the bug, set the verbosity to 10 (on Linux, `export AUTOGRAPH_VERBOSITY=10`) and attach the full output. Cause: converting <bound method BasicLSTMCell.call of <tensorflow.python.ops.rnn_cell_impl.BasicLSTMCell object at 0x7f2c841adcf8>>: AssertionError: Bad argument number for Name: 3, expecting 4\n",
      "WARNING:tensorflow:From /home/mxhow/sud/lstm_for_sud/model.py:101: dense (from tensorflow.python.layers.core) is deprecated and will be removed in a future version.\n",
      "Instructions for updating:\n",
      "Use keras.layers.dense instead.\n",
      "WARNING:tensorflow:Entity <bound method Dense.call of <tensorflow.python.layers.core.Dense object at 0x7f2c704ecd68>> could not be transformed and will be executed as-is. Please report this to the AutgoGraph team. When filing the bug, set the verbosity to 10 (on Linux, `export AUTOGRAPH_VERBOSITY=10`) and attach the full output. Cause: converting <bound method Dense.call of <tensorflow.python.layers.core.Dense object at 0x7f2c704ecd68>>: AssertionError: Bad argument number for Name: 3, expecting 4\n",
      "WARNING: Entity <bound method Dense.call of <tensorflow.python.layers.core.Dense object at 0x7f2c704ecd68>> could not be transformed and will be executed as-is. Please report this to the AutgoGraph team. When filing the bug, set the verbosity to 10 (on Linux, `export AUTOGRAPH_VERBOSITY=10`) and attach the full output. Cause: converting <bound method Dense.call of <tensorflow.python.layers.core.Dense object at 0x7f2c704ecd68>>: AssertionError: Bad argument number for Name: 3, expecting 4\n",
      "WARNING:tensorflow:Entity <bound method Dense.call of <tensorflow.python.layers.core.Dense object at 0x7f2c704ecd68>> could not be transformed and will be executed as-is. Please report this to the AutgoGraph team. When filing the bug, set the verbosity to 10 (on Linux, `export AUTOGRAPH_VERBOSITY=10`) and attach the full output. Cause: converting <bound method Dense.call of <tensorflow.python.layers.core.Dense object at 0x7f2c704ecd68>>: AssertionError: Bad argument number for Name: 3, expecting 4\n",
      "WARNING: Entity <bound method Dense.call of <tensorflow.python.layers.core.Dense object at 0x7f2c704ecd68>> could not be transformed and will be executed as-is. Please report this to the AutgoGraph team. When filing the bug, set the verbosity to 10 (on Linux, `export AUTOGRAPH_VERBOSITY=10`) and attach the full output. Cause: converting <bound method Dense.call of <tensorflow.python.layers.core.Dense object at 0x7f2c704ecd68>>: AssertionError: Bad argument number for Name: 3, expecting 4\n",
      "WARNING:tensorflow:Entity <bound method Dense.call of <tensorflow.python.layers.core.Dense object at 0x7f2c704ecd68>> could not be transformed and will be executed as-is. Please report this to the AutgoGraph team. When filing the bug, set the verbosity to 10 (on Linux, `export AUTOGRAPH_VERBOSITY=10`) and attach the full output. Cause: converting <bound method Dense.call of <tensorflow.python.layers.core.Dense object at 0x7f2c704ecd68>>: AssertionError: Bad argument number for Name: 3, expecting 4\n",
      "WARNING: Entity <bound method Dense.call of <tensorflow.python.layers.core.Dense object at 0x7f2c704ecd68>> could not be transformed and will be executed as-is. Please report this to the AutgoGraph team. When filing the bug, set the verbosity to 10 (on Linux, `export AUTOGRAPH_VERBOSITY=10`) and attach the full output. Cause: converting <bound method Dense.call of <tensorflow.python.layers.core.Dense object at 0x7f2c704ecd68>>: AssertionError: Bad argument number for Name: 3, expecting 4\n",
      "WARNING:tensorflow:Entity <bound method Dense.call of <tensorflow.python.layers.core.Dense object at 0x7f2c841ce978>> could not be transformed and will be executed as-is. Please report this to the AutgoGraph team. When filing the bug, set the verbosity to 10 (on Linux, `export AUTOGRAPH_VERBOSITY=10`) and attach the full output. Cause: converting <bound method Dense.call of <tensorflow.python.layers.core.Dense object at 0x7f2c841ce978>>: AssertionError: Bad argument number for Name: 3, expecting 4\n",
      "WARNING: Entity <bound method Dense.call of <tensorflow.python.layers.core.Dense object at 0x7f2c841ce978>> could not be transformed and will be executed as-is. Please report this to the AutgoGraph team. When filing the bug, set the verbosity to 10 (on Linux, `export AUTOGRAPH_VERBOSITY=10`) and attach the full output. Cause: converting <bound method Dense.call of <tensorflow.python.layers.core.Dense object at 0x7f2c841ce978>>: AssertionError: Bad argument number for Name: 3, expecting 4\n",
      "WARNING:tensorflow:From /home/mxhow/sud/lstm_for_sud/model.py:129: The name tf.trainable_variables is deprecated. Please use tf.compat.v1.trainable_variables instead.\n",
      "\n",
      "WARNING:tensorflow:From /home/mxhow/sud/lstm_for_sud/model.py:132: The name tf.train.AdamOptimizer is deprecated. Please use tf.compat.v1.train.AdamOptimizer instead.\n",
      "\n",
      "WARNING:tensorflow:From /home/mxhow/sud/lstm_for_sud/model.py:32: The name tf.train.Saver is deprecated. Please use tf.compat.v1.train.Saver instead.\n",
      "\n",
      "WARNING:tensorflow:From /home/mxhow/anaconda3/envs/hackathon1/lib/python3.6/site-packages/tensorflow/python/training/saver.py:1276: checkpoint_exists (from tensorflow.python.training.checkpoint_management) is deprecated and will be removed in a future version.\n",
      "Instructions for updating:\n",
      "Use standard file APIs to check for files with this prefix.\n",
      "INFO:tensorflow:Restoring parameters from data/trained_model/mgb_sud\n"
     ]
    }
   ],
   "source": [
    "MODEL_NAME = \"mgb_sud\"\n",
    "model = LstmModel(embeddings=embeddings)\n",
    "model.build()\n",
    "model.restore_session(MODEL_NAME)"
   ]
  },
  {
   "cell_type": "code",
   "execution_count": 5,
   "metadata": {},
   "outputs": [],
   "source": [
    "from youtube_transcript_api import YouTubeTranscriptApi\n",
    "video_id = \"EtnNXkoHTRc\"\n",
    "result = YouTubeTranscriptApi.get_transcript(video_id)\n",
    "transcript = \"\"\n",
    "for x in result:\n",
    "    transcript = transcript + x[\"text\"] + \" \""
   ]
  },
  {
   "cell_type": "code",
   "execution_count": 27,
   "metadata": {},
   "outputs": [],
   "source": [
    "data = [transcript]"
   ]
  },
  {
   "cell_type": "code",
   "execution_count": 28,
   "metadata": {},
   "outputs": [
    {
     "data": {
      "text/plain": [
       "1"
      ]
     },
     "execution_count": 28,
     "metadata": {},
     "output_type": "execute_result"
    }
   ],
   "source": [
    "len(data)"
   ]
  },
  {
   "cell_type": "code",
   "execution_count": 29,
   "metadata": {},
   "outputs": [],
   "source": [
    "words = [[vocab[w] if w in vocab else vocab['$UNK$'] for w in s.strip().split()] for s in data]\n",
    "test = Dataset(words=words)"
   ]
  },
  {
   "cell_type": "code",
   "execution_count": 30,
   "metadata": {},
   "outputs": [],
   "source": [
    "y_pred = model.predict(test, MODEL_NAME)\n",
    "labels = []\n",
    "for pred, w in zip(y_pred, test.words):\n",
    "    labels.append(list(map(int, pred[:len(w)])))"
   ]
  },
  {
   "cell_type": "code",
   "execution_count": 32,
   "metadata": {},
   "outputs": [],
   "source": [
    "sentences = []\n",
    "for i, label in enumerate(labels):\n",
    "    tokens = data[i].split()\n",
    "    for j in range(len(label)):\n",
    "        if label[j] == 1:\n",
    "            tokens[j] += \".\"\n",
    "    sentences.append(\" \".join(tokens))"
   ]
  },
  {
   "cell_type": "code",
   "execution_count": 33,
   "metadata": {},
   "outputs": [
    {
     "data": {
      "text/plain": [
       "[\"we are currently recording on the sony. a7 3 a camera that when it came out shook the video world to its to its boots and it has been one of the very top kings in the camera world. but 2018 was a very fierce time of competition for video cameras. today we're gonna find out is the sony a7 3 the once top of the world king. is it still worth getting in 2019. let's find out what's up everyone. i'm the everyday dead and if i can figure it out you can figure it out bottom line of the video up front. the a7 3 is a perfectly fine camera with a fantastic image quality and if you were into still photography of people it might be one of the best cameras out there right now for the price and as a video camera it's not too bad either. but i would say there are some better options out there and there are a few problems with the camera itself more on these later that make things harder than they need to be. this is my third a 73 i I have a weird relationship with cameras I mean the gh 5 were recording on right now is my fifth like don't cameras on me. we have like this weird thing going on but in the last year I've learned some things that I really like and some things that are meant and some things that are quite deal-breakers about the a7. 3 since I'm a happy-go-lucky kind of guy. let's start off with the positives number one. the image quality is great and yes that's kind of the reason you get a camera right Sony gets beaten up a lot on the internet about their color science. and yeah back when I had an a 6300 the image quality looked very sharp. the autofocus was great but it just had really weird skin tones. I think with their newest cameras like the a 73 in the a 6400 specifically they've basically fixed these issues you can get a very nice image straight out of camera without really needing to tweak anything other than setting into your preferred picture profile. mine happens to be picture profile 1 it's just it's one of my favorite of all time. not only that but it is still a rare camera that can do 4k with the full width of the sensor and will even do 4k 30 frames per second. with just the slightest of crops mean it's like 1.1 or 1.2 or something. it's not that bad benefit of the sony is there down sampling sensor technology. the sensor inside of the a7 3 is actually a 6k sensor. they down sampled a 4k which while this doesn't fix the only 8-bit 4000 problem. they said three heads internally it goes a long way towards making that not matter especially for those of us that don't do any color grading or post-processing and that's really it. if you are someone that just wants good quality image and you don't want to work too hard to get it. the a7 3 looks great that full-frame sensor gives you a very unique look that even my beloved gh 5 can't quite get to even with all of the speed boosters in the world. yeah. something I want to mention it really quick is also the internal. preamps on the a7 3 they're pretty darn good. now there's not a whole lot of cameras out there that I will let do any kind of heavy audio lifting mostly. I'll let the microphone do all that or I will just have a separate device that captures the audio for me. but the a7 3 does a really great job. not only the a7 3 there are not very many camera companies but that I will trust to do the heavy audio lifting for me Panasonic and Sony are really the only two I'll let do that like right now we have a rode videomic pro plus on it. and I'm letting a lot of the works be done in the camera right now and Sony they just got it on lock and that's really really important. because audio is such a more important aspect of video production than the image quality is like you can figure out what a video is if you can't even really see anything like if you're watching this in 720p right now you don't really care about the image quality. the audio is so much more important. the a7 3 has really good audio I will absolutely give it that number to the lenses and this is a weird one that exists now but did not exist. when the a7 3 first came out. they did the lenses did exist. but the Sony lenses are now like reasonably priced. I know right that sounds crazy but think about it since the a7 3 came out. almost every other manufacturer has thrown their hat in the full-frame mirrorless ring Canon Panasonic Nikon and some of those new lenses are painfully expensive like $2,500 $3,000. but then the G master lenses are like hey remember me. you used to think I was expensive but I'm cheaper than the competition. what what a weird world we live in. the benefit of this obviously is the Sony glasses some of the best out there and though it hasn't any price cut and some are still more expensive than the camera itself. they are now no longer the most expensive examples and for that you know what I give Sony credit plus another benefit of this line is you now have a full set of native lenses and you don't need to bring along an extra adapter with your old DSLR glass. most of the adapters do work fine but I hate extra pieces number three. the customization I just can't get over how good the customization on the a7 3 is. it's got four buttons specifically designed to let you pick whatever function. the camera can perform that you want access to quickly and efficiently I just really like being able to change how a camera works by how I like to use it. and not necessarily how the camera manufacturer decided that I should use it. I'm my own man mom for me personally I have the two front top button set to super 35 mode and clear image zoom which number four crop mode and Clear Image Zoom these two features combined together into a fantastic package. you can take a regular old prime lens crop in without any limits loss and then digitally zoom in 1.5 times more for more zoom without losing any image quality. it takes your standard prime lens and turns them into mini zoom ones. plus it will let you reach even farther with your zoom lenses and you don't have to worry about bringing you long a bunch of other gear to do it. I use this mode all of the time. it also lets me get past some clothes focusing distance issues when I'm trying to do b-roll with the camera and darn it I love when a camera pleasantly surprises me like this because that's not a feature that I sought out. but I'm so impressed that it has it before I start rambling on too much about the things I like. we'll quickly go through a few of the smaller things. the battery life is awesome. the auto exposure modes are on point. you can power it while in use from the USBC connection and it's two got dual card slots but it's not all perfection. over here. there are a few men parts of the camera too. that may be in a future body can be refined and perfected. first up the rear screen. its only touch for focus which is great and all but I wish it had full touch functionality like the nikon z6 which is actually still my preferred full-frame video camera. also the rear screen is oriented in a weird way. so if you wear polarized sunglasses outdoors like I do all of the time. I mean you've seen it. you straight-up can't see it until you put a screen protector on like it basically means I can't use the screen without a screen protector. which kind of stinks another methane is the body itself. it's certainly not the worst feeling camera body in the world and the construction is great. but I wish it had a bit of a deeper grip and was maybe just a little bit taller to make it better to hold in the hand. I have pretty regular-sized hands and even then I'm like I'm missing the pinky here. you can get a battery group to fix this but I just I just wish it had a little bit better experience to hold. those are all minor problems that can be very easily worked around so don't get too wrapped around the axle on those. but here there be dragons and by dragons. I mean deal breakers. at least for me. personally one the second you plug in a monitor you lose face tracking autofocus in 4k. yes I know you can still use it if you record externally but not everyone wants to buy an accessory to have access to a feature that should still just work. when you do the one thing you need to use this as a solo content creators camera like you need to be able to monitor yourself. you shouldn't be penalized for that. you don't have any other real way of monitoring yourself except buying an external screen. so the fact that the face tracking turns off means that you probably need to shoot at a lower aperture rating giving a deeper depth of field which negates why you might want a full-frame camera in the first place like like that's like the whole reason right when the a 7-3 first came out there wasn't really any competition so i'll just kind of sucked it up and dealt with it. but now we've got two really great alternatives that both fix this really well one the a 6400 which is basically a mini a 73 but gives us a flip up screen so we can still have face tracking 4k and know our exposure while in front of the camera and the nikon z6 which will continue to allow face tracking to work while plugged into a monitor. those are very valuable features and I just refuse to buy gear anymore that makes the creation process harder when they don't need to be and the face tracking problem is a really big one for me in the a7 3 another major. deal-breaker for this camera and I think I've complained about this in just about every single video that I've talked about the a7 3 these doors one year later and if anything I'm more angry now than I was when it first came out. these doors are the worst design thing I can think of on just about any camera the other mirrorless full-frame cameras out there all have better ways of dealing with this. while maintaining weather sealing these ports suck and they really make the experience of using the a7 three for its perfect use which is live streaming monster camera. it turns that into a painful experience because you have to stress the ports just to get everything plugged in again. the z6 a 6400 eos RP eos are all of those do much better than the a7 3 for all of its faults. the a7 3 is a revolutionary camera. it changed what we expect for the future of mirrorless cameras of any sensor size and what we expected a certain price point but it's not perfect and you know unfortunately nothing is thanks for watching.\"]"
      ]
     },
     "execution_count": 33,
     "metadata": {},
     "output_type": "execute_result"
    }
   ],
   "source": [
    "sentences"
   ]
  },
  {
   "cell_type": "code",
   "execution_count": 41,
   "metadata": {},
   "outputs": [],
   "source": [
    "import spacy\n",
    "from spacy.lang.en import English\n",
    "import json"
   ]
  },
  {
   "cell_type": "code",
   "execution_count": 52,
   "metadata": {},
   "outputs": [],
   "source": [
    "long = \"we are currently recording on the sony. a7 3 a camera that when it came out. shook the video world to its to its. boots and it has been one of the very. top kings in the camera world but 2018. was a very fierce time of competition. for video cameras today we're gonna find. out is the sony a7 3 the once top of the. world king is it still worth getting in. 2019 let's find out what's up everyone. i'm the everyday dead and if i can. figure it out you can figure it out. bottom line of the video up front. the a7 3 is a perfectly fine camera with. a fantastic image quality and if you. were into still photography of people it. might be one of the best cameras out. there right now for the price and as a. video camera it's not too bad either but. i would say there are some better. options out there and there are a few. problems with the camera itself more on. these later that make things harder than. they need to be this is my third a 73 i. I have a weird relationship with cameras. I mean the gh 5 were recording on right. now is my fifth like don't cameras on me. we have like this weird thing going on. but in the last year I've learned some. things that I really like and some. things that are meant and some things. that are quite deal-breakers about the. a7 3 since I'm a happy-go-lucky kind of. guy let's start off with the positives. number one the image quality is great. and yes that's kind of the reason you. get a camera right Sony gets beaten up a. lot on the internet about their color. science and yeah back when I had an a. 6300 the image quality looked very sharp. the autofocus was great but it just had. really weird skin tones I think with. their newest cameras like the a 73 in. the a 6400 specifically they've. basically fixed these issues you can get. a very nice image straight out of camera. without really needing to tweak anything. other than setting into your preferred. picture profile mine happens to be. picture profile 1 it's just it's one of. my favorite of all time not only that. but it is still a rare camera that can. do 4k with the full width of the sensor. and will even do 4k 30 frames per second. with just the slightest of crops mean. it's like 1.1 or 1.2 or something it's. not that bad. benefit of the sony is there down. sampling sensor technology the sensor. inside of the a7 3 is actually a 6k. sensor they down sampled a 4k which. while this doesn't fix the only 8-bit. 4000 problem they said three heads. internally it goes a long way towards. making that not matter especially for. those of us that don't do any color. grading or post-processing and that's. really it if you are someone that just. wants good quality image and you don't. want to work too hard to get it. the a7 3 looks great that full-frame. sensor gives you a very unique look that. even my beloved gh 5 can't quite get to. even with all of the speed boosters in. the world yeah something I want to. mention it really quick is also the. internal preamps on the a7 3 they're. pretty darn good now there's not a whole. lot of cameras out there that I will let. do any kind of heavy audio lifting. mostly I'll let the microphone do all. that or I will just have a separate. device that captures the audio for me. but the a7 3 does a really great job not. only the a7 3 there are not very many. camera companies but that I will trust. to do the heavy audio lifting for me. Panasonic and Sony are really the only. two I'll let do that like right now we. have a rode videomic pro plus on it and. I'm letting a lot of the works be done. in the camera right now and Sony they. just got it on lock and that's really. really important because audio is such a. more important aspect of video. production than the image quality is. like you can figure out what a video is. if you can't even really see anything. like if you're watching this in 720p. right now you don't really care about. the image quality the audio is so much. more important the a7 3 has really good. audio I will absolutely give it that. number to the lenses and this is a weird. one that exists now but did not exist. when the a7 3 first came out they did. the lenses did exist but the Sony lenses. are now like reasonably priced I know. right that sounds crazy but think about. it since the a7 3 came out almost every. other manufacturer has thrown their hat. in the full-frame mirrorless ring Canon. Panasonic Nikon and some of those new. lenses are painfully expensive like. $2,500 $3,000 but then the G master. lenses are like hey remember me you used. to think I was expensive but I'm cheaper. than the competition. what what a weird world we live in the. benefit of this obviously is the Sony. glasses some of the best out there and. though it hasn't any price cut and some. are still more expensive than the camera. itself they are now no longer the most. expensive examples and for that you know. what I give Sony credit plus another. benefit of this line is you now have a. full set of native lenses and you don't. need to bring along an extra adapter. with your old DSLR glass most of the. adapters do work fine but I hate extra. pieces number three the customization I. just can't get over how good the. customization on the a7 3 is it's got. four buttons specifically designed to. let you pick whatever function the. camera can perform that you want access. to quickly and efficiently I just really. like being able to change how a camera. works by how I like to use it and not. necessarily how the camera manufacturer. decided that I should use it I'm my own. man mom for me personally I have the two. front top button set to super 35 mode. and clear image zoom which number four. crop mode and Clear Image Zoom these two. features combined together into a. fantastic package you can take a regular. old prime lens crop in without any. limits loss and then digitally zoom in. 1.5 times more for more zoom without. losing any image quality it takes your. standard prime lens and turns them into. mini zoom ones plus it will let you. reach even farther with your zoom lenses. and you don't have to worry about. bringing you long a bunch of other gear. to do it I use this mode all of the time. it also lets me get past some clothes. focusing distance issues when I'm trying. to do b-roll with the camera and darn it. I love when a camera pleasantly. surprises me like this because that's. not a feature that I sought out but I'm. so impressed that it has it before I. start rambling on too much about the. things I like we'll quickly go through a. few of the smaller things the battery. life is awesome the auto exposure modes. are on point you can power it while in. use from the USBC connection and it's. two got dual card slots but it's not all. perfection over here there are a few men. parts of the camera too that may be in a. future body can be refined and perfected. first up the rear screen its only touch. for focus which is great and all but I. wish it had full touch functionality. like the nikon z6 which is actually. still my preferred full-frame video. camera also the rear screen is. oriented in a weird way so if you wear. polarized sunglasses outdoors like I do. all of the time I mean you've seen it. you straight-up can't see it until you. put a screen protector on like it. basically means I can't use the screen. without a screen protector which kind of. stinks another methane is the body. itself. it's certainly not the worst feeling. camera body in the world and the. construction is great but I wish it had. a bit of a deeper grip and was maybe. just a little bit taller to make it. better to hold in the hand I have pretty. regular-sized hands and even then I'm. like I'm missing the pinky here you can. get a battery group to fix this but I. just I just wish it had a little bit. better experience to hold those are all. minor problems that can be very easily. worked around so don't get too wrapped. around the axle on those but here there. be dragons and by dragons I mean deal. breakers at least for me personally one. the second you plug in a monitor you. lose face tracking autofocus in 4k yes I. know you can still use it if you record. externally but not everyone wants to buy. an accessory to have access to a feature. that should still just work when you do. the one thing you need to use this as a. solo content creators camera like you. need to be able to monitor yourself you. shouldn't be penalized for that you. don't have any other real way of. monitoring yourself except buying an. external screen so the fact that the. face tracking turns off means that you. probably need to shoot at a lower. aperture rating giving a deeper depth of. field which negates why you might want a. full-frame camera in the first place. like like that's like the whole reason. right when the a 7-3 first came out. there wasn't really any competition so. i'll just kind of sucked it up and dealt. with it but now we've got two really. great alternatives that both fix this. really well one the a 6400 which is. basically a mini a 73 but gives us a. flip up screen so we can still have face. tracking 4k and know our exposure while. in front of the camera and the nikon z6. which will continue to allow face. tracking to work while plugged into a. monitor those are very valuable features. and I just refuse to buy gear anymore. that makes the creation process harder. when they don't need to be and the face. tracking problem is a really big one for. me in the a7 3 another major. deal-breaker for this camera and I think. I've complained about this in just about. every single video that I've talked. about the a7 3. these doors one year later and if. anything I'm more angry now than I was. when it first came out these doors are. the worst design thing I can think of on. just about any camera the other. mirrorless full-frame cameras out there. all have better ways of dealing with. this while maintaining weather sealing. these ports suck and they really make. the experience of using the a7 three for. its perfect use which is live streaming. monster camera it turns that into a. painful experience because you have to. stress the ports just to get everything. plugged in again the z6 a 6400 eos RP. eos are all of those do much better than. the a7 3 for all of its faults the a7 3. is a revolutionary camera it changed. what we expect for the future of. mirrorless cameras of any sensor size. and what we expected a certain price. point but it's not perfect and you know. unfortunately nothing is thanks for. watching. \""
   ]
  },
  {
   "cell_type": "code",
   "execution_count": 53,
   "metadata": {},
   "outputs": [],
   "source": [
    "nlp = English()  # just the language with no model\n",
    "sentencizer = nlp.create_pipe(\"sentencizer\")\n",
    "nlp.add_pipe(sentencizer)\n",
    "doc = nlp(long)\n",
    "splited = []\n",
    "for sent in doc.sents:\n",
    "    splited.append(str(sent))"
   ]
  },
  {
   "cell_type": "code",
   "execution_count": 54,
   "metadata": {},
   "outputs": [
    {
     "data": {
      "text/plain": [
       "252"
      ]
     },
     "execution_count": 54,
     "metadata": {},
     "output_type": "execute_result"
    }
   ],
   "source": [
    "len(splited)"
   ]
  },
  {
   "cell_type": "code",
   "execution_count": 51,
   "metadata": {},
   "outputs": [],
   "source": [
    "with open(\"data_file.json\", \"w\") as write_file:\n",
    "    json.dump(splited, write_file)"
   ]
  },
  {
   "cell_type": "code",
   "execution_count": 56,
   "metadata": {},
   "outputs": [
    {
     "data": {
      "text/plain": [
       "[\"shouldn't be penalized for that you.\",\n",
       " \"don't have any other real way of.\",\n",
       " 'monitoring yourself except buying an.',\n",
       " 'external screen so the fact that the.',\n",
       " 'face tracking turns off means that you.',\n",
       " 'probably need to shoot at a lower.',\n",
       " 'aperture rating giving a deeper depth of.',\n",
       " 'field which negates why you might want a. full-frame camera in the first place.',\n",
       " \"like like that's like the whole reason.\",\n",
       " 'right when the a 7-3 first came out.',\n",
       " \"there wasn't really any competition so.\",\n",
       " \"i'll just kind of sucked it up and dealt.\",\n",
       " \"with it but now we've got two really.\",\n",
       " 'great alternatives that both fix this.',\n",
       " 'really well one the a 6400 which is.',\n",
       " 'basically a mini a 73 but gives us a. flip up screen so we can still have face.',\n",
       " 'tracking 4k and know our exposure while.',\n",
       " 'in front of the camera and the nikon z6.',\n",
       " 'which will continue to allow face.',\n",
       " 'tracking to work while plugged into a. monitor those are very valuable features.',\n",
       " 'and I just refuse to buy gear anymore.',\n",
       " 'that makes the creation process harder.',\n",
       " \"when they don't need to be and the face.\",\n",
       " 'tracking problem is a really big one for.',\n",
       " 'me in the a7 3 another major.',\n",
       " 'deal-breaker for this camera and I think.',\n",
       " \"I've complained about this in just about.\",\n",
       " \"every single video that I've talked.\",\n",
       " 'about the a7 3.',\n",
       " 'these doors one year later and if.',\n",
       " \"anything I'm more angry now than I was.\",\n",
       " 'when it first came out these doors are.',\n",
       " 'the worst design thing I can think of on.',\n",
       " 'just about any camera the other.',\n",
       " 'mirrorless full-frame cameras out there.',\n",
       " 'all have better ways of dealing with.',\n",
       " 'this while maintaining weather sealing.',\n",
       " 'these ports suck and they really make.',\n",
       " 'the experience of using the a7 three for.',\n",
       " 'its perfect use which is live streaming.',\n",
       " 'monster camera it turns that into a. painful experience because you have to.',\n",
       " 'stress the ports just to get everything.',\n",
       " 'plugged in again the z6 a 6400 eos RP.',\n",
       " 'eos are all of those do much better than.',\n",
       " 'the a7 3 for all of its faults the a7 3.',\n",
       " 'is a revolutionary camera it changed.',\n",
       " 'what we expect for the future of.',\n",
       " 'mirrorless cameras of any sensor size.',\n",
       " 'and what we expected a certain price.',\n",
       " \"point but it's not perfect and you know.\"]"
      ]
     },
     "execution_count": 56,
     "metadata": {},
     "output_type": "execute_result"
    }
   ],
   "source": []
  },
  {
   "cell_type": "code",
   "execution_count": null,
   "metadata": {},
   "outputs": [],
   "source": []
  }
 ],
 "metadata": {
  "kernelspec": {
   "display_name": "Python [conda env:hackathon1]",
   "language": "python",
   "name": "conda-env-hackathon1-py"
  },
  "language_info": {
   "codemirror_mode": {
    "name": "ipython",
    "version": 3
   },
   "file_extension": ".py",
   "mimetype": "text/x-python",
   "name": "python",
   "nbconvert_exporter": "python",
   "pygments_lexer": "ipython3",
   "version": "3.6.9"
  }
 },
 "nbformat": 4,
 "nbformat_minor": 2
}
