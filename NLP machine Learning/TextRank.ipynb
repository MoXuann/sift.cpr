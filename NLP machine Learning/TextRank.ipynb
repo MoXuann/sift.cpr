{
 "cells": [
  {
   "cell_type": "code",
   "execution_count": 1,
   "metadata": {},
   "outputs": [
    {
     "name": "stderr",
     "output_type": "stream",
     "text": [
      "[nltk_data] Downloading package punkt to /home/mxhow/nltk_data...\n",
      "[nltk_data]   Package punkt is already up-to-date!\n",
      "/home/mxhow/anaconda3/envs/hackathon1/lib/python3.6/site-packages/tensorflow/python/framework/dtypes.py:516: FutureWarning: Passing (type, 1) or '1type' as a synonym of type is deprecated; in a future version of numpy, it will be understood as (type, (1,)) / '(1,)type'.\n",
      "  _np_qint8 = np.dtype([(\"qint8\", np.int8, 1)])\n",
      "/home/mxhow/anaconda3/envs/hackathon1/lib/python3.6/site-packages/tensorflow/python/framework/dtypes.py:517: FutureWarning: Passing (type, 1) or '1type' as a synonym of type is deprecated; in a future version of numpy, it will be understood as (type, (1,)) / '(1,)type'.\n",
      "  _np_quint8 = np.dtype([(\"quint8\", np.uint8, 1)])\n",
      "/home/mxhow/anaconda3/envs/hackathon1/lib/python3.6/site-packages/tensorflow/python/framework/dtypes.py:518: FutureWarning: Passing (type, 1) or '1type' as a synonym of type is deprecated; in a future version of numpy, it will be understood as (type, (1,)) / '(1,)type'.\n",
      "  _np_qint16 = np.dtype([(\"qint16\", np.int16, 1)])\n",
      "/home/mxhow/anaconda3/envs/hackathon1/lib/python3.6/site-packages/tensorflow/python/framework/dtypes.py:519: FutureWarning: Passing (type, 1) or '1type' as a synonym of type is deprecated; in a future version of numpy, it will be understood as (type, (1,)) / '(1,)type'.\n",
      "  _np_quint16 = np.dtype([(\"quint16\", np.uint16, 1)])\n",
      "/home/mxhow/anaconda3/envs/hackathon1/lib/python3.6/site-packages/tensorflow/python/framework/dtypes.py:520: FutureWarning: Passing (type, 1) or '1type' as a synonym of type is deprecated; in a future version of numpy, it will be understood as (type, (1,)) / '(1,)type'.\n",
      "  _np_qint32 = np.dtype([(\"qint32\", np.int32, 1)])\n",
      "/home/mxhow/anaconda3/envs/hackathon1/lib/python3.6/site-packages/tensorflow/python/framework/dtypes.py:525: FutureWarning: Passing (type, 1) or '1type' as a synonym of type is deprecated; in a future version of numpy, it will be understood as (type, (1,)) / '(1,)type'.\n",
      "  np_resource = np.dtype([(\"resource\", np.ubyte, 1)])\n",
      "/home/mxhow/anaconda3/envs/hackathon1/lib/python3.6/site-packages/tensorboard/compat/tensorflow_stub/dtypes.py:541: FutureWarning: Passing (type, 1) or '1type' as a synonym of type is deprecated; in a future version of numpy, it will be understood as (type, (1,)) / '(1,)type'.\n",
      "  _np_qint8 = np.dtype([(\"qint8\", np.int8, 1)])\n",
      "/home/mxhow/anaconda3/envs/hackathon1/lib/python3.6/site-packages/tensorboard/compat/tensorflow_stub/dtypes.py:542: FutureWarning: Passing (type, 1) or '1type' as a synonym of type is deprecated; in a future version of numpy, it will be understood as (type, (1,)) / '(1,)type'.\n",
      "  _np_quint8 = np.dtype([(\"quint8\", np.uint8, 1)])\n",
      "/home/mxhow/anaconda3/envs/hackathon1/lib/python3.6/site-packages/tensorboard/compat/tensorflow_stub/dtypes.py:543: FutureWarning: Passing (type, 1) or '1type' as a synonym of type is deprecated; in a future version of numpy, it will be understood as (type, (1,)) / '(1,)type'.\n",
      "  _np_qint16 = np.dtype([(\"qint16\", np.int16, 1)])\n",
      "/home/mxhow/anaconda3/envs/hackathon1/lib/python3.6/site-packages/tensorboard/compat/tensorflow_stub/dtypes.py:544: FutureWarning: Passing (type, 1) or '1type' as a synonym of type is deprecated; in a future version of numpy, it will be understood as (type, (1,)) / '(1,)type'.\n",
      "  _np_quint16 = np.dtype([(\"quint16\", np.uint16, 1)])\n",
      "/home/mxhow/anaconda3/envs/hackathon1/lib/python3.6/site-packages/tensorboard/compat/tensorflow_stub/dtypes.py:545: FutureWarning: Passing (type, 1) or '1type' as a synonym of type is deprecated; in a future version of numpy, it will be understood as (type, (1,)) / '(1,)type'.\n",
      "  _np_qint32 = np.dtype([(\"qint32\", np.int32, 1)])\n",
      "/home/mxhow/anaconda3/envs/hackathon1/lib/python3.6/site-packages/tensorboard/compat/tensorflow_stub/dtypes.py:550: FutureWarning: Passing (type, 1) or '1type' as a synonym of type is deprecated; in a future version of numpy, it will be understood as (type, (1,)) / '(1,)type'.\n",
      "  np_resource = np.dtype([(\"resource\", np.ubyte, 1)])\n"
     ]
    }
   ],
   "source": [
    "import os\n",
    "os.environ['TF_CPP_MIN_LOG_LEVEL'] = '3'\n",
    "import numpy as np\n",
    "import pandas as pd\n",
    "import nltk\n",
    "nltk.download('punkt') # one time execution\n",
    "import re\n",
    "import tensorflow as tf\n",
    "import tensorflow_hub as hub\n",
    "import json"
   ]
  },
  {
   "cell_type": "code",
   "execution_count": 2,
   "metadata": {},
   "outputs": [],
   "source": [
    "module_url = \"https://tfhub.dev/google/universal-sentence-encoder-large/3\"\n",
    "embed = hub.Module(module_url)"
   ]
  },
  {
   "cell_type": "code",
   "execution_count": 4,
   "metadata": {},
   "outputs": [],
   "source": [
    "with open(\"pros_cons.json\", \"r\") as file:\n",
    "    json_file = json.load(file)"
   ]
  },
  {
   "cell_type": "code",
   "execution_count": 8,
   "metadata": {},
   "outputs": [
    {
     "data": {
      "text/plain": [
       "['Cameras lack optical zoom, Some may not like the thicker bezels, Comes with a 5-watt charger',\n",
       " \"No big increases in wireless performance. Next year's iPhone will likely mark a major change.\",\n",
       " \"Only Pro models get the 2x telephoto. The ultrawide-angle camera doesn’t add Night Mode. No USB-C port. The Pro phones have a faster 18-watt charger but iPhone 11 doesn't. Still has a good (but not OLED) display.\",\n",
       " 'no expandable storage, weak location accuracy, moderate audio performance, weak power supply, only 12 months warranty, restricted NFC',\n",
       " 'Starting storage of 64GB',\n",
       " 'No OLED display, Bezels are still large, No zoom lens',\n",
       " 'iOS 13 is buggy, Just one fairly large size, Get out of here with this 5W charger, The garden is beautiful, but the walls grow ever higher',\n",
       " \"The battery life and display aren't as nice as the Pro. It definitely feels cheaper.\",\n",
       " 'No zoom lens on camera, LCD screen not as good as OLED for movies, Only comes with 5W charger']"
      ]
     },
     "execution_count": 8,
     "metadata": {},
     "output_type": "execute_result"
    }
   ],
   "source": [
    "json_file['apple-iphone-11']['cons'][0]"
   ]
  },
  {
   "cell_type": "code",
   "execution_count": 25,
   "metadata": {},
   "outputs": [],
   "source": [
    "cons_list = []\n",
    "for x in json_file['apple-iphone-11']['cons'][0]:\n",
    "    spec = x.split(\",\")\n",
    "    cleaned = [x.strip() for x in spec]\n",
    "    cons_list += cleaned\n",
    "cons_list2 = []\n",
    "for y in cons_list:\n",
    "    if '.' in y:\n",
    "        spec = y.split(\".\")\n",
    "        cleaned = [x.strip() for x in spec]\n",
    "        cons_list2 += cleaned\n",
    "    else:\n",
    "        cons_list2.append(y)"
   ]
  },
  {
   "cell_type": "code",
   "execution_count": 27,
   "metadata": {},
   "outputs": [],
   "source": [
    "pros_list = []\n",
    "for x in json_file['apple-iphone-11']['pros'][0]:\n",
    "    spec = x.split(\",\")\n",
    "    cleaned = [x.strip() for x in spec]\n",
    "    pros_list += cleaned\n",
    "pros_list2 = []\n",
    "for y in pros_list:\n",
    "    if '.' in y:\n",
    "        spec = y.split(\".\")\n",
    "        cleaned = [x.strip() for x in spec]\n",
    "        pros_list2 += cleaned\n",
    "    else:\n",
    "        pros_list2.append(y)"
   ]
  },
  {
   "cell_type": "code",
   "execution_count": 26,
   "metadata": {},
   "outputs": [
    {
     "data": {
      "text/plain": [
       "['Cameras lack optical zoom',\n",
       " 'Some may not like the thicker bezels',\n",
       " 'Comes with a 5-watt charger',\n",
       " 'No big increases in wireless performance',\n",
       " \"Next year's iPhone will likely mark a major change\",\n",
       " '',\n",
       " 'Only Pro models get the 2x telephoto',\n",
       " 'The ultrawide-angle camera doesn’t add Night Mode',\n",
       " 'No USB-C port',\n",
       " \"The Pro phones have a faster 18-watt charger but iPhone 11 doesn't\",\n",
       " 'Still has a good (but not OLED) display',\n",
       " '',\n",
       " 'no expandable storage',\n",
       " 'weak location accuracy',\n",
       " 'moderate audio performance',\n",
       " 'weak power supply',\n",
       " 'only 12 months warranty',\n",
       " 'restricted NFC',\n",
       " 'Starting storage of 64GB',\n",
       " 'No OLED display',\n",
       " 'Bezels are still large',\n",
       " 'No zoom lens',\n",
       " 'iOS 13 is buggy',\n",
       " 'Just one fairly large size',\n",
       " 'Get out of here with this 5W charger',\n",
       " 'The garden is beautiful',\n",
       " 'but the walls grow ever higher',\n",
       " \"The battery life and display aren't as nice as the Pro\",\n",
       " 'It definitely feels cheaper',\n",
       " '',\n",
       " 'No zoom lens on camera',\n",
       " 'LCD screen not as good as OLED for movies',\n",
       " 'Only comes with 5W charger']"
      ]
     },
     "execution_count": 26,
     "metadata": {},
     "output_type": "execute_result"
    }
   ],
   "source": [
    "cons_list2"
   ]
  },
  {
   "cell_type": "code",
   "execution_count": 28,
   "metadata": {},
   "outputs": [
    {
     "data": {
      "text/plain": [
       "['Impressive speed',\n",
       " 'New wide and ultra wide cameras',\n",
       " \"Elegant design that doesn't make sacrifices for a lower price\",\n",
       " 'Reasonable price',\n",
       " 'New wide-angle camera option',\n",
       " 'Fastest processor available',\n",
       " 'Accurate display colors',\n",
       " '',\n",
       " 'Even faster speed',\n",
       " 'improved battery life',\n",
       " \"The iPhone 11's cameras get an excellent new Night Mode and an ultrawide-angle camera that can add extra detail in photos\",\n",
       " 'Fantastic video camera',\n",
       " '',\n",
       " 'powerful SoC',\n",
       " 'bright and colour accurate LCD panel',\n",
       " 'dust and waterproof',\n",
       " 'wide LTE frequency support',\n",
       " 'wireless charging',\n",
       " 'good battery life',\n",
       " 'Fast performance',\n",
       " 'New camera features',\n",
       " 'Strong battery life',\n",
       " 'Tougher and water resistant design',\n",
       " 'glossy back',\n",
       " '',\n",
       " 'The screen has excellent brightness and contrast',\n",
       " '',\n",
       " 'Apple A13 Bionic is the fastest smartphone chip on the planet',\n",
       " '',\n",
       " 'Excellent battery life',\n",
       " 'fast charging support',\n",
       " '',\n",
       " 'Stereo speakers with great quality',\n",
       " '',\n",
       " 'iOS provides smooth user experience',\n",
       " '',\n",
       " 'New colours are great',\n",
       " 'Ultra wide angle camera is great',\n",
       " 'Decent price',\n",
       " 'Excellent camera',\n",
       " 'Terrific battery life',\n",
       " 'Lower price',\n",
       " 'Slofies',\n",
       " 'dramatic ultra-wide angle photos',\n",
       " 'Night mode',\n",
       " 'and outstanding dynamic range',\n",
       " '',\n",
       " 'Superb dual-lens camera',\n",
       " 'Blazingly fast',\n",
       " 'Great battery life',\n",
       " 'Lovely design and build',\n",
       " 'Impressive audio']"
      ]
     },
     "execution_count": 28,
     "metadata": {},
     "output_type": "execute_result"
    }
   ],
   "source": [
    "pros_list2"
   ]
  },
  {
   "cell_type": "code",
   "execution_count": 40,
   "metadata": {},
   "outputs": [],
   "source": [
    "# def remove_rubbish(sentence):\n",
    "#     replacedstr = re.sub('\\n+', ' ', sentence)\n",
    "#     return replacedstr"
   ]
  },
  {
   "cell_type": "code",
   "execution_count": 41,
   "metadata": {},
   "outputs": [],
   "source": [
    "# df = pd.read_csv(\"test.csv\",encoding='latin')"
   ]
  },
  {
   "cell_type": "code",
   "execution_count": 59,
   "metadata": {},
   "outputs": [],
   "source": [
    "# from nltk.tokenize import sent_tokenize\n",
    "# sentences = []\n",
    "# for s in json_file:\n",
    "#     sentences.append(sent_tokenize(s))\n",
    "\n",
    "# sentences = [y for x in sentences for y in x] # flatten list"
   ]
  },
  {
   "cell_type": "code",
   "execution_count": 29,
   "metadata": {},
   "outputs": [],
   "source": [
    "sentences = cons_list2"
   ]
  },
  {
   "cell_type": "code",
   "execution_count": 30,
   "metadata": {},
   "outputs": [
    {
     "name": "stdout",
     "output_type": "stream",
     "text": [
      "INFO:tensorflow:Saver not created because there are no variables in the graph to restore\n"
     ]
    },
    {
     "name": "stderr",
     "output_type": "stream",
     "text": [
      "INFO:tensorflow:Saver not created because there are no variables in the graph to restore\n"
     ]
    }
   ],
   "source": [
    "with tf.Session() as session:\n",
    "    session.run([tf.global_variables_initializer(), tf.tables_initializer()])\n",
    "    message_embeddings = session.run(embed(sentences))"
   ]
  },
  {
   "cell_type": "code",
   "execution_count": 31,
   "metadata": {},
   "outputs": [],
   "source": [
    "sim_mat = np.zeros([len(sentences), len(sentences)])\n",
    "from sklearn.metrics.pairwise import cosine_similarity"
   ]
  },
  {
   "cell_type": "code",
   "execution_count": 32,
   "metadata": {},
   "outputs": [],
   "source": [
    "for i in range(len(sentences)):\n",
    "    for j in range(len(sentences)):\n",
    "        if i != j:\n",
    "            sim_mat[i][j] = cosine_similarity(message_embeddings[i].reshape(1,512), message_embeddings[j].reshape(1,512))[0,0]"
   ]
  },
  {
   "cell_type": "code",
   "execution_count": 33,
   "metadata": {},
   "outputs": [],
   "source": [
    "import networkx as nx\n",
    "\n",
    "nx_graph = nx.from_numpy_array(sim_mat)\n",
    "scores = nx.pagerank(nx_graph)"
   ]
  },
  {
   "cell_type": "code",
   "execution_count": 34,
   "metadata": {},
   "outputs": [],
   "source": [
    "ranked_sentences = sorted(((scores[i],s) for i,s in enumerate(sentences)), reverse=True)"
   ]
  },
  {
   "cell_type": "code",
   "execution_count": 35,
   "metadata": {},
   "outputs": [
    {
     "name": "stdout",
     "output_type": "stream",
     "text": [
      "Still has a good (but not OLED) display\n",
      "The battery life and display aren't as nice as the Pro\n",
      "no expandable storage\n",
      "No OLED display\n",
      "Bezels are still large\n"
     ]
    }
   ],
   "source": [
    "# Extract top 10 sentences as the summary\n",
    "for i in range(5):\n",
    "    print(ranked_sentences[i][1])"
   ]
  },
  {
   "cell_type": "code",
   "execution_count": null,
   "metadata": {},
   "outputs": [],
   "source": []
  }
 ],
 "metadata": {
  "kernelspec": {
   "display_name": "Python [conda env:hackathon1]",
   "language": "python",
   "name": "conda-env-hackathon1-py"
  },
  "language_info": {
   "codemirror_mode": {
    "name": "ipython",
    "version": 3
   },
   "file_extension": ".py",
   "mimetype": "text/x-python",
   "name": "python",
   "nbconvert_exporter": "python",
   "pygments_lexer": "ipython3",
   "version": "3.6.9"
  }
 },
 "nbformat": 4,
 "nbformat_minor": 2
}
